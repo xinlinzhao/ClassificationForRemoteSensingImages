{
 "cells": [
  {
   "cell_type": "code",
   "execution_count": 1,
   "id": "0966eaa8",
   "metadata": {},
   "outputs": [
    {
     "data": {
      "text/plain": [
       "'2.7.0'"
      ]
     },
     "execution_count": 1,
     "metadata": {},
     "output_type": "execute_result"
    }
   ],
   "source": [
    "import numpy as np\n",
    "import pandas as pd\n",
    "import matplotlib.pyplot as plt\n",
    "import seaborn as sns\n",
    "import skimage.transform\n",
    "import os\n",
    "\n",
    "from sklearn import model_selection\n",
    "from tensorflow.keras.utils import to_categorical\n",
    "from tensorflow.keras.preprocessing.image import ImageDataGenerator\n",
    "from PIL import Image\n",
    "\n",
    "from tensorflow import keras\n",
    "from tensorflow.keras.models import Sequential, load_model, Model\n",
    "from tensorflow.keras.layers import Dense, Conv2D, MaxPooling2D, Dropout, Flatten, add, BatchNormalization, GlobalAveragePooling2D\n",
    "from tensorflow.keras.optimizers import Adam \n",
    "from tensorflow.keras.applications.vgg16 import preprocess_input, decode_predictions, VGG16\n",
    "from tensorflow.keras.applications.resnet50 import ResNet50\n",
    "\n",
    "from tensorflow.keras.callbacks import ModelCheckpoint, EarlyStopping\n",
    "from sklearn.metrics import confusion_matrix, classification_report, roc_curve, auc\n",
    "\n",
    "keras.__version__"
   ]
  },
  {
   "cell_type": "code",
   "execution_count": 51,
   "id": "0d8f9bea",
   "metadata": {},
   "outputs": [],
   "source": [
    "IMAGE_SIZE = 224\n",
    "CHANNELS = 3\n",
    "data_location = 'UCMerced_LandUse/Images'\n",
    "category_names = os.listdir(data_location)\n",
    "number_classes = len(category_names)"
   ]
  },
  {
   "cell_type": "code",
   "execution_count": 54,
   "id": "6d69d7ce",
   "metadata": {},
   "outputs": [],
   "source": [
    "def process_image(image_folder, save_x, save_y, i): \n",
    "    images = os.listdir(image_folder) \n",
    "    for image in images: \n",
    "        image_path = image_folder + '/' + image\n",
    "        orignal_image_size = Image.open(image_path)\n",
    "        resized_image = orignal_image_size.resize((IMAGE_SIZE, IMAGE_SIZE), Image.ANTIALIAS)\n",
    "        arr = np.asarray(resized_image).astype('float32') / 255.0\n",
    "        save_x.append(arr)\n",
    "        save_y.append([i])"
   ]
  },
  {
   "cell_type": "code",
   "execution_count": 55,
   "id": "39277682",
   "metadata": {},
   "outputs": [],
   "source": [
    "save_x = [] \n",
    "save_y = [] \n",
    "i = 0 \n",
    "for category in category_names:\n",
    "    image_folder = data_location + '/' + category\n",
    "    process_image(image_folder, save_x, save_y, i)\n",
    "    i += 1 "
   ]
  },
  {
   "cell_type": "code",
   "execution_count": 56,
   "id": "af99fd43",
   "metadata": {},
   "outputs": [],
   "source": [
    "labels = to_categorical(save_y, number_classes)\n",
    "images = np.array(save_x)"
   ]
  },
  {
   "cell_type": "code",
   "execution_count": 62,
   "id": "c4622cf0",
   "metadata": {},
   "outputs": [],
   "source": [
    "x_train, x_test, y_train, y_test = model_selection.train_test_split(images, labels, test_size=0.2, \n",
    "                                                                            stratify = labels, random_state=2021) \n",
    "x_train, x_val, y_train, y_val = model_selection.train_test_split(x_train, y_train, test_size=0.25, \n",
    "                                                                          stratify = y_train, random_state=2021) "
   ]
  },
  {
   "cell_type": "code",
   "execution_count": 64,
   "id": "758e8256",
   "metadata": {},
   "outputs": [
    {
     "data": {
      "text/plain": [
       "(420, 224, 224, 3)"
      ]
     },
     "execution_count": 64,
     "metadata": {},
     "output_type": "execute_result"
    }
   ],
   "source": [
    "x_test.shape"
   ]
  },
  {
   "cell_type": "markdown",
   "id": "e173419c",
   "metadata": {},
   "source": [
    "# Data augmentation"
   ]
  },
  {
   "cell_type": "code",
   "execution_count": 65,
   "id": "4a9e79d7",
   "metadata": {},
   "outputs": [],
   "source": [
    "epochs = 30\n",
    "learning_rate = 0.001\n",
    "batch_size = 32\n",
    "batches_per_epoch = y_train.shape[0] // batch_size\n",
    "validation_steps = y_val.shape[0] // batch_size\n",
    "\n",
    "image_gen = ImageDataGenerator(\n",
    "    zoom_range = 0.1,\n",
    "    width_shift_range = 5,   # pixel\n",
    "    height_shift_range = 5,  # pixel\n",
    "    horizontal_flip = True,\n",
    "    vertical_flip = True,\n",
    "    rotation_range = 20\n",
    ")\n",
    "image_gen_test = ImageDataGenerator()"
   ]
  },
  {
   "cell_type": "code",
   "execution_count": 66,
   "id": "54e4fa0a",
   "metadata": {},
   "outputs": [],
   "source": [
    "train_gen = image_gen.flow(np.array(x_train), y_train, batch_size = batch_size, shuffle = True)\n",
    "val_gen = image_gen_test.flow(np.array(x_val), y_val, batch_size = batch_size, shuffle = True)"
   ]
  },
  {
   "cell_type": "markdown",
   "id": "c978e981",
   "metadata": {},
   "source": [
    "# Transfer learning"
   ]
  },
  {
   "cell_type": "code",
   "execution_count": 69,
   "id": "75149548",
   "metadata": {},
   "outputs": [],
   "source": [
    "model = VGG16(include_top = False, input_shape = (IMAGE_SIZE, IMAGE_SIZE, CHANNELS))\n",
    "\n",
    "for layer in model.layers: \n",
    "    layer.trainable = False\n",
    "flat1 = Flatten()(model.layers[-1].output)\n",
    "class1 = Dense(1024, activation='relu')(flat1)\n",
    "output = Dense(number_classes, activation='softmax')(class1)\n",
    "\n",
    "model = Model(inputs=model.inputs, outputs=output)\n",
    "\n",
    "# model.summary()"
   ]
  },
  {
   "cell_type": "code",
   "execution_count": 13,
   "id": "41ca06a4",
   "metadata": {},
   "outputs": [],
   "source": [
    "# #Use resnet\n",
    "# model = ResNet50(weights='imagenet', include_top = False, input_shape = (IMAGE_SIZE, IMAGE_SIZE, CHANNELS))\n",
    "\n",
    "# for layer in model.layers:\n",
    "#     layer.trainable = False\n",
    "# gavg = GlobalAveragePooling2D()(model.layers[-1].output)\n",
    "# class1 = Dense(128, activation='relu')(gavg)\n",
    "# output = Dense(number_classes, activation='softmax')(class1)\n",
    "\n",
    "# model = Model(inputs=model.inputs, outputs=output)\n",
    "\n",
    "# # model.summary()"
   ]
  },
  {
   "cell_type": "code",
   "execution_count": 70,
   "id": "e24b3e55",
   "metadata": {},
   "outputs": [],
   "source": [
    "model.compile(optimizer=Adam(learning_rate=learning_rate), loss='categorical_crossentropy', metrics=['accuracy']) \n",
    "\n",
    "checkpoint_best_model = 'SavedModels/VGG.hdf5'\n",
    "# es = EarlyStopping(monitor='val_loss', mode='min', verbose=1, patience=90)\n",
    "mc = ModelCheckpoint(checkpoint_best_model, monitor='val_accuracy', mode='max', verbose=1, save_best_only=True) "
   ]
  },
  {
   "cell_type": "code",
   "execution_count": 71,
   "id": "7bd42799",
   "metadata": {},
   "outputs": [
    {
     "name": "stdout",
     "output_type": "stream",
     "text": [
      "training...\n",
      "Epoch 1/30\n",
      "\n",
      "Epoch 00001: val_accuracy improved from -inf to 0.77404, saving model to SavedModels\\VGG.hdf5\n",
      "39/39 - 104s - loss: 3.5564 - accuracy: 0.5008 - val_loss: 0.9764 - val_accuracy: 0.7740 - 104s/epoch - 3s/step\n",
      "Epoch 2/30\n",
      "\n",
      "Epoch 00002: val_accuracy improved from 0.77404 to 0.83654, saving model to SavedModels\\VGG.hdf5\n",
      "39/39 - 108s - loss: 0.5440 - accuracy: 0.8233 - val_loss: 0.5165 - val_accuracy: 0.8365 - 108s/epoch - 3s/step\n",
      "Epoch 3/30\n",
      "\n",
      "Epoch 00003: val_accuracy did not improve from 0.83654\n",
      "39/39 - 109s - loss: 0.3544 - accuracy: 0.8893 - val_loss: 0.5119 - val_accuracy: 0.8269 - 109s/epoch - 3s/step\n",
      "Epoch 4/30\n",
      "\n",
      "Epoch 00004: val_accuracy did not improve from 0.83654\n",
      "39/39 - 108s - loss: 0.2984 - accuracy: 0.9015 - val_loss: 0.5960 - val_accuracy: 0.8269 - 108s/epoch - 3s/step\n",
      "Epoch 5/30\n",
      "\n",
      "Epoch 00005: val_accuracy improved from 0.83654 to 0.85096, saving model to SavedModels\\VGG.hdf5\n",
      "39/39 - 101s - loss: 0.2903 - accuracy: 0.9047 - val_loss: 0.5003 - val_accuracy: 0.8510 - 101s/epoch - 3s/step\n",
      "Epoch 6/30\n",
      "\n",
      "Epoch 00006: val_accuracy improved from 0.85096 to 0.89183, saving model to SavedModels\\VGG.hdf5\n",
      "39/39 - 108s - loss: 0.1862 - accuracy: 0.9349 - val_loss: 0.3187 - val_accuracy: 0.8918 - 108s/epoch - 3s/step\n",
      "Epoch 7/30\n",
      "\n",
      "Epoch 00007: val_accuracy did not improve from 0.89183\n",
      "39/39 - 107s - loss: 0.1601 - accuracy: 0.9454 - val_loss: 0.4245 - val_accuracy: 0.8774 - 107s/epoch - 3s/step\n",
      "Epoch 8/30\n",
      "\n",
      "Epoch 00008: val_accuracy did not improve from 0.89183\n",
      "39/39 - 99s - loss: 0.2255 - accuracy: 0.9365 - val_loss: 0.4371 - val_accuracy: 0.8798 - 99s/epoch - 3s/step\n",
      "Epoch 9/30\n",
      "\n",
      "Epoch 00009: val_accuracy did not improve from 0.89183\n",
      "39/39 - 100s - loss: 0.1624 - accuracy: 0.9487 - val_loss: 0.4161 - val_accuracy: 0.8750 - 100s/epoch - 3s/step\n",
      "Epoch 10/30\n",
      "\n",
      "Epoch 00010: val_accuracy did not improve from 0.89183\n",
      "39/39 - 97s - loss: 0.1578 - accuracy: 0.9438 - val_loss: 0.4482 - val_accuracy: 0.8678 - 97s/epoch - 2s/step\n",
      "Epoch 11/30\n",
      "\n",
      "Epoch 00011: val_accuracy did not improve from 0.89183\n",
      "39/39 - 93s - loss: 0.1492 - accuracy: 0.9520 - val_loss: 0.4144 - val_accuracy: 0.8918 - 93s/epoch - 2s/step\n",
      "Epoch 12/30\n",
      "\n",
      "Epoch 00012: val_accuracy did not improve from 0.89183\n",
      "39/39 - 107s - loss: 0.0976 - accuracy: 0.9666 - val_loss: 0.4000 - val_accuracy: 0.8750 - 107s/epoch - 3s/step\n",
      "Epoch 13/30\n",
      "\n",
      "Epoch 00013: val_accuracy did not improve from 0.89183\n",
      "39/39 - 98s - loss: 0.1042 - accuracy: 0.9682 - val_loss: 0.3940 - val_accuracy: 0.8894 - 98s/epoch - 3s/step\n",
      "Epoch 14/30\n",
      "\n",
      "Epoch 00014: val_accuracy did not improve from 0.89183\n",
      "39/39 - 96s - loss: 0.0841 - accuracy: 0.9707 - val_loss: 0.3558 - val_accuracy: 0.8918 - 96s/epoch - 2s/step\n",
      "Epoch 15/30\n",
      "\n",
      "Epoch 00015: val_accuracy did not improve from 0.89183\n",
      "39/39 - 100s - loss: 0.0539 - accuracy: 0.9813 - val_loss: 0.3749 - val_accuracy: 0.8870 - 100s/epoch - 3s/step\n",
      "Epoch 16/30\n",
      "\n",
      "Epoch 00016: val_accuracy did not improve from 0.89183\n",
      "39/39 - 100s - loss: 0.0859 - accuracy: 0.9715 - val_loss: 0.5294 - val_accuracy: 0.8678 - 100s/epoch - 3s/step\n",
      "Epoch 17/30\n",
      "\n",
      "Epoch 00017: val_accuracy did not improve from 0.89183\n",
      "39/39 - 101s - loss: 0.0882 - accuracy: 0.9666 - val_loss: 0.4284 - val_accuracy: 0.8918 - 101s/epoch - 3s/step\n",
      "Epoch 18/30\n",
      "\n",
      "Epoch 00018: val_accuracy improved from 0.89183 to 0.89423, saving model to SavedModels\\VGG.hdf5\n",
      "39/39 - 105s - loss: 0.0929 - accuracy: 0.9658 - val_loss: 0.4100 - val_accuracy: 0.8942 - 105s/epoch - 3s/step\n",
      "Epoch 19/30\n",
      "\n",
      "Epoch 00019: val_accuracy did not improve from 0.89423\n",
      "39/39 - 98s - loss: 0.1674 - accuracy: 0.9552 - val_loss: 0.3990 - val_accuracy: 0.8750 - 98s/epoch - 3s/step\n",
      "Epoch 20/30\n",
      "\n",
      "Epoch 00020: val_accuracy improved from 0.89423 to 0.90385, saving model to SavedModels\\VGG.hdf5\n",
      "39/39 - 102s - loss: 0.0808 - accuracy: 0.9748 - val_loss: 0.3567 - val_accuracy: 0.9038 - 102s/epoch - 3s/step\n",
      "Epoch 21/30\n",
      "\n",
      "Epoch 00021: val_accuracy did not improve from 0.90385\n",
      "39/39 - 109s - loss: 0.0785 - accuracy: 0.9723 - val_loss: 0.3707 - val_accuracy: 0.8918 - 109s/epoch - 3s/step\n",
      "Epoch 22/30\n",
      "\n",
      "Epoch 00022: val_accuracy did not improve from 0.90385\n",
      "39/39 - 107s - loss: 0.1015 - accuracy: 0.9739 - val_loss: 0.4786 - val_accuracy: 0.8942 - 107s/epoch - 3s/step\n",
      "Epoch 23/30\n",
      "\n",
      "Epoch 00023: val_accuracy did not improve from 0.90385\n",
      "39/39 - 108s - loss: 0.0868 - accuracy: 0.9731 - val_loss: 0.3927 - val_accuracy: 0.9014 - 108s/epoch - 3s/step\n",
      "Epoch 24/30\n",
      "\n",
      "Epoch 00024: val_accuracy improved from 0.90385 to 0.91587, saving model to SavedModels\\VGG.hdf5\n",
      "39/39 - 101s - loss: 0.1178 - accuracy: 0.9642 - val_loss: 0.3716 - val_accuracy: 0.9159 - 101s/epoch - 3s/step\n",
      "Epoch 25/30\n",
      "\n",
      "Epoch 00025: val_accuracy did not improve from 0.91587\n",
      "39/39 - 99s - loss: 0.0606 - accuracy: 0.9788 - val_loss: 0.4412 - val_accuracy: 0.8990 - 99s/epoch - 3s/step\n",
      "Epoch 26/30\n",
      "\n",
      "Epoch 00026: val_accuracy did not improve from 0.91587\n",
      "39/39 - 97s - loss: 0.0801 - accuracy: 0.9707 - val_loss: 0.5819 - val_accuracy: 0.8606 - 97s/epoch - 2s/step\n",
      "Epoch 27/30\n",
      "\n",
      "Epoch 00027: val_accuracy did not improve from 0.91587\n",
      "39/39 - 94s - loss: 0.1092 - accuracy: 0.9631 - val_loss: 0.4612 - val_accuracy: 0.8582 - 94s/epoch - 2s/step\n",
      "Epoch 28/30\n",
      "\n",
      "Epoch 00028: val_accuracy did not improve from 0.91587\n",
      "39/39 - 100s - loss: 0.0909 - accuracy: 0.9707 - val_loss: 0.3178 - val_accuracy: 0.9159 - 100s/epoch - 3s/step\n",
      "Epoch 29/30\n",
      "\n",
      "Epoch 00029: val_accuracy improved from 0.91587 to 0.91827, saving model to SavedModels\\VGG.hdf5\n",
      "39/39 - 106s - loss: 0.0665 - accuracy: 0.9764 - val_loss: 0.3427 - val_accuracy: 0.9183 - 106s/epoch - 3s/step\n",
      "Epoch 30/30\n",
      "\n",
      "Epoch 00030: val_accuracy did not improve from 0.91827\n",
      "39/39 - 105s - loss: 0.0391 - accuracy: 0.9853 - val_loss: 0.3886 - val_accuracy: 0.8966 - 105s/epoch - 3s/step\n",
      "done\n"
     ]
    }
   ],
   "source": [
    "print('training...')\n",
    "\n",
    "history = model.fit(\n",
    "                x=train_gen,\n",
    "                steps_per_epoch=batches_per_epoch, \n",
    "                epochs=epochs, \n",
    "                validation_data=val_gen,\n",
    "                validation_steps=validation_steps,\n",
    "                verbose = 2,\n",
    "                callbacks=[mc]\n",
    "                )\n",
    "\n",
    "print('done')"
   ]
  },
  {
   "cell_type": "markdown",
   "id": "44967aeb",
   "metadata": {},
   "source": [
    "# Evaluate the model"
   ]
  },
  {
   "cell_type": "code",
   "execution_count": 72,
   "id": "2a70ea6d",
   "metadata": {},
   "outputs": [
    {
     "name": "stdout",
     "output_type": "stream",
     "text": [
      "Model evaluate on train, Accuracy 99.127\n",
      "Model evaluate on val, Accuracy 91.667\n",
      "Model evaluate on test, Accuracy 90.952\n"
     ]
    }
   ],
   "source": [
    "checkpoint_best_model = 'SavedModels/VGG.hdf5'\n",
    "saved_model = load_model(checkpoint_best_model)\n",
    "\n",
    "_, acc = saved_model.evaluate(x_train, y_train, verbose=0)\n",
    "print('Model evaluate on train, Accuracy %.3f' % (acc * 100.0))\n",
    "_, acc = saved_model.evaluate(x_val, y_val, verbose=0)\n",
    "print('Model evaluate on val, Accuracy %.3f' % (acc * 100.0))\n",
    "_, acc = saved_model.evaluate(x_test, y_test, verbose=0)\n",
    "print('Model evaluate on test, Accuracy %.3f' % (acc * 100.0))"
   ]
  },
  {
   "cell_type": "markdown",
   "id": "efe7864b",
   "metadata": {},
   "source": [
    "# Predict on testing set"
   ]
  },
  {
   "cell_type": "code",
   "execution_count": 73,
   "id": "2ced11f2",
   "metadata": {},
   "outputs": [
    {
     "data": {
      "text/plain": [
       "array([0., 0., 0., 0., 0., 0., 0., 0., 0., 1., 0., 0., 0., 0., 0., 0., 0.,\n",
       "       0., 0., 0., 0.], dtype=float32)"
      ]
     },
     "execution_count": 73,
     "metadata": {},
     "output_type": "execute_result"
    }
   ],
   "source": [
    "predictions = saved_model.predict(x=x_test, batch_size=batch_size)\n",
    "y_pred = to_categorical(np.argmax(predictions, axis=1), number_classes)\n",
    "y_pred[0]"
   ]
  },
  {
   "cell_type": "code",
   "execution_count": 75,
   "id": "86d773c0",
   "metadata": {},
   "outputs": [
    {
     "name": "stdout",
     "output_type": "stream",
     "text": [
      "                   precision    recall  f1-score   support\n",
      "\n",
      "     agricultural       1.00      0.90      0.95        20\n",
      "         airplane       1.00      1.00      1.00        20\n",
      "  baseballdiamond       1.00      0.80      0.89        20\n",
      "            beach       1.00      1.00      1.00        20\n",
      "        buildings       0.82      0.90      0.86        20\n",
      "        chaparral       1.00      1.00      1.00        20\n",
      " denseresidential       0.79      0.55      0.65        20\n",
      "           forest       0.86      0.95      0.90        20\n",
      "          freeway       1.00      1.00      1.00        20\n",
      "       golfcourse       0.85      0.85      0.85        20\n",
      "           harbor       1.00      1.00      1.00        20\n",
      "     intersection       0.95      0.95      0.95        20\n",
      "mediumresidential       0.68      0.85      0.76        20\n",
      "   mobilehomepark       0.85      0.85      0.85        20\n",
      "         overpass       1.00      0.95      0.97        20\n",
      "       parkinglot       0.95      1.00      0.98        20\n",
      "            river       1.00      1.00      1.00        20\n",
      "           runway       0.91      1.00      0.95        20\n",
      "sparseresidential       0.76      0.95      0.84        20\n",
      "     storagetanks       0.86      0.90      0.88        20\n",
      "      tenniscourt       0.93      0.70      0.80        20\n",
      "\n",
      "        micro avg       0.91      0.91      0.91       420\n",
      "        macro avg       0.91      0.91      0.91       420\n",
      "     weighted avg       0.91      0.91      0.91       420\n",
      "      samples avg       0.91      0.91      0.91       420\n",
      "\n"
     ]
    }
   ],
   "source": [
    "y_pred = to_categorical(np.argmax(predictions, axis=1), number_classes)\n",
    "report_string = classification_report(y_test, y_pred, target_names=category_names)\n",
    "print(report_string)"
   ]
  },
  {
   "cell_type": "code",
   "execution_count": 76,
   "id": "83d8aeef",
   "metadata": {},
   "outputs": [
    {
     "data": {
      "image/png": "[encoded data removed]",
      "text/plain": [
       "<Figure size 864x720 with 2 Axes>"
      ]
     },
     "metadata": {
      "needs_background": "light"
     },
     "output_type": "display_data"
    }
   ],
   "source": [
    "def plot_cm(y_true, y_pred, figsize=(12,10)):\n",
    "    cm = confusion_matrix(y_true, y_pred, labels=np.unique(y_true))\n",
    "    cm_sum = np.sum(cm, axis=1, keepdims=True)\n",
    "    cm_perc = cm / cm_sum.astype(float) * 100\n",
    "    annot = np.empty_like(cm).astype(str)\n",
    "    nrows, ncols = cm.shape\n",
    "    for i in range(nrows):\n",
    "        for j in range(ncols):\n",
    "            c = cm[i, j]\n",
    "            p = cm_perc[i, j]\n",
    "            if i == j:\n",
    "                s = cm_sum[i]\n",
    "                annot[i, j] = '%d/%d' % (c, s)\n",
    "            elif c == 0:\n",
    "                annot[i, j] = ''\n",
    "            elif i<j:\n",
    "                annot[i, j] = '%d' % (c)\n",
    "            else:\n",
    "                annot[i, j] = '%d' % (c)\n",
    "    #cm = pd.DataFrame(cm, index=np.unique(y_true), columns=np.unique(y_true))\n",
    "    cm = pd.DataFrame(cm, index=category_names, columns=category_names)\n",
    "    cm.index.name = 'Actual'\n",
    "    cm.columns.name = 'Predicted'\n",
    "    fig, ax = plt.subplots(figsize=figsize)\n",
    "    sns.set(font_scale=1.4)\n",
    "    sns.heatmap(cm, cmap= \"YlGnBu\", annot=annot, fmt='', ax=ax, annot_kws={\"fontsize\":12})\n",
    "    \n",
    "plot_cm( y_test.argmax(axis=1), predictions.argmax(axis=1))"
   ]
  },
  {
   "cell_type": "code",
   "execution_count": null,
   "id": "0d5227f0",
   "metadata": {},
   "outputs": [],
   "source": []
  }
 ],
 "metadata": {
  "kernelspec": {
   "display_name": "Python 3",
   "language": "python",
   "name": "python3"
  },
  "language_info": {
   "codemirror_mode": {
    "name": "ipython",
    "version": 3
   },
   "file_extension": ".py",
   "mimetype": "text/x-python",
   "name": "python",
   "nbconvert_exporter": "python",
   "pygments_lexer": "ipython3",
   "version": "3.8.8"
  }
 },
 "nbformat": 4,
 "nbformat_minor": 5
}
