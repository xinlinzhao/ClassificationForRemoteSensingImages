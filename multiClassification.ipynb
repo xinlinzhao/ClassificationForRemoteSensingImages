{
 "cells": [
  {
   "cell_type": "code",
   "execution_count": 21,
   "outputs": [],
   "source": [
    "import numpy as np\n",
    "import pandas as pd\n",
    "import matplotlib.pyplot as plt\n",
    "import seaborn as sns\n",
    "import pickle\n",
    "\n",
    "from sklearn.metrics import confusion_matrix, classification_report\n",
    "from sklearn.model_selection import train_test_split\n",
    "\n",
    "from tensorflow import keras\n",
    "from tensorflow.keras.models import Sequential, Model, load_model\n",
    "from tensorflow.keras.layers import Input, Dense, Conv2D, MaxPooling2D\n",
    "from tensorflow.keras.layers import GlobalAveragePooling2D, AveragePooling2D\n",
    "from tensorflow.keras.layers import ZeroPadding2D, Dropout, Flatten, add, Reshape\n",
    "from tensorflow.keras.layers import Activation, BatchNormalization\n",
    "from tensorflow.keras.optimizers import Adam, SGD\n",
    "from tensorflow.keras.utils import plot_model, to_categorical\n",
    "from tensorflow.keras import backend as K\n",
    "from tensorflow.keras import initializers\n",
    "from tensorflow.keras.preprocessing.image import ImageDataGenerator\n",
    "from tensorflow.keras.callbacks import ModelCheckpoint, EarlyStopping\n",
    "\n",
    "from skimage.transform import resize\n",
    "import cv2\n",
    "\n",
    "from PIL import Image\n",
    "import os\n",
    "from shutil import copyfile"
   ],
   "metadata": {
    "collapsed": false,
    "pycharm": {
     "name": "#%%\n"
    }
   }
  },
  {
   "cell_type": "markdown",
   "source": [
    "# 1. Load data and preprocess"
   ],
   "metadata": {
    "collapsed": false
   }
  },
  {
   "cell_type": "code",
   "execution_count": 22,
   "outputs": [
    {
     "name": "stdout",
     "output_type": "stream",
     "text": [
      "Image Original Data Type: uint8\n",
      "Original: Min: 0.000, Max: 255.000\n",
      "\n",
      "Image Resized Data Type: float32\n",
      "Resized: Min: 0.000, Max: 1.000\n"
     ]
    }
   ],
   "source": [
    "Image_directory = 'data/UCMerced_LandUse/Images'\n",
    "\n",
    "#load the labels\n",
    "category_names = [\n",
    "    'agricultural',\n",
    "    'forest',\n",
    "    'mobilehomepark'\n",
    "]\n",
    "#define size of data\n",
    "num_images = 100  # per category\n",
    "nb_classes = len(category_names)\n",
    "patch_size = 256  # width and height in pixel\n",
    "channels = 3\n",
    "images_orig = []\n",
    "labels_num = []\n",
    "#load data\n",
    "for i in range(len(category_names)):\n",
    "    for j in range(num_images):\n",
    "        img_path = os.path.join(Image_directory, category_names[i], category_names[i]+'{:02d}.tif'.format(j))\n",
    "\n",
    "        #new_image = plt.imread(img_path)\n",
    "        #resized_image = resize(new_image, (patch_size/4, patch_size/4, channels))\n",
    "        img = Image.open(img_path)\n",
    "\n",
    "        resized_img = img.resize((patch_size//4, patch_size//4), Image.ANTIALIAS)\n",
    "\n",
    "        arr = np.asarray(resized_img)\n",
    "\n",
    "        images_orig.append(arr)\n",
    "        labels_num.append([i])\n",
    "#image normalization\n",
    "images_orig = np.array(images_orig)\n",
    "print('Image Original Data Type: %s' % images_orig[0].dtype)\n",
    "print('Original: Min: %.3f, Max: %.3f' % (images_orig.min(), images_orig.max()))\n",
    "# convert from integers to floats\n",
    "images_orig = images_orig.astype('float32')\n",
    "# normalize to the range 0-1\n",
    "images_orig /= 255.0\n",
    "# confirm the normalization\n",
    "print('\\nImage Resized Data Type: %s' % images_orig[0].dtype)\n",
    "print('Resized: Min: %.3f, Max: %.3f' % (images_orig.min(), images_orig.max()))\n",
    "labels_num = np.array(labels_num)\n",
    "\n",
    "# Save numpy datasets\n",
    "np.save('data/UCMerced_images_orig_MultiClass.npy', images_orig)\n",
    "np.save('data/UCMerced_labels_num_MultiClass.npy', labels_num)"
   ],
   "metadata": {
    "collapsed": false,
    "pycharm": {
     "name": "#%%\n"
    }
   }
  },
  {
   "cell_type": "markdown",
   "source": [
    "# 2. Split training, validation and testing set"
   ],
   "metadata": {
    "collapsed": false,
    "pycharm": {
     "name": "#%% md\n"
    }
   }
  },
  {
   "cell_type": "code",
   "execution_count": null,
   "outputs": [],
   "source": [
    "# One-hot encoding\n",
    "labels = to_categorical(labels_num, nb_classes)\n",
    "nb_images = images_orig.shape[0] #total number of images\n",
    "\n",
    "X_train, X_test, y_train, y_test = train_test_split(images_orig, labels,\n",
    "                                                    test_size=0.2,\n",
    "                                                    stratify = labels,\n",
    "                                                    random_state=2021)\n",
    "\n",
    "X_train, X_val, y_train, y_val = train_test_split(X_train, y_train,\n",
    "                                                  test_size=0.25,\n",
    "                                                  stratify = y_train,\n",
    "                                                  random_state=2021)\n"
   ],
   "metadata": {
    "collapsed": false,
    "pycharm": {
     "name": "#%%\n"
    }
   }
  }
 ],
 "metadata": {
  "kernelspec": {
   "name": "cnn",
   "language": "python",
   "display_name": "Python (cnn)"
  },
  "language_info": {
   "codemirror_mode": {
    "name": "ipython",
    "version": 2
   },
   "file_extension": ".py",
   "mimetype": "text/x-python",
   "name": "python",
   "nbconvert_exporter": "python",
   "pygments_lexer": "ipython2",
   "version": "2.7.6"
  }
 },
 "nbformat": 4,
 "nbformat_minor": 0
}